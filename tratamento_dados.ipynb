{
 "cells": [
  {
   "cell_type": "code",
   "execution_count": 1,
   "metadata": {},
   "outputs": [],
   "source": [
    "#imports\n",
    "import datetime\n",
    "import pandas as pd\n",
    "import numpy as np\n",
    "import matplotlib.pyplot as plt\n",
    "import seaborn as sns\n",
    "from sklearn.model_selection import train_test_split\n",
    "from sklearn.linear_model import LinearRegression\n",
    "from sklearn.metrics import mean_squared_error\n",
    "from pycaret import *\n",
    "from pycaret.classification import *\n",
    "from sklearn.discriminant_analysis import LinearDiscriminantAnalysis\n",
    "from sklearn.metrics import (classification_report)\n",
    "from sklearn.model_selection import cross_val_score, train_test_split"
   ]
  },
  {
   "cell_type": "code",
   "execution_count": null,
   "metadata": {},
   "outputs": [],
   "source": [
    "dados = pd.read_csv('Dataset_cliente.csv')\n",
    "dados.head()"
   ]
  },
  {
   "cell_type": "code",
   "execution_count": null,
   "metadata": {},
   "outputs": [],
   "source": [
    "dados.columns"
   ]
  },
  {
   "cell_type": "code",
   "execution_count": 9,
   "metadata": {},
   "outputs": [],
   "source": [
    "# colunas_selecionadas = dados[['Interresses3', 'Interesses2', 'Interesses']]  \n",
    "# dados['Interesses'] = colunas_selecionadas.apply(lambda row: [row[\"Interresses3\"], row[\"Interesses2\"], row[\"Interesses\"]], axis=1)\n",
    "# dados = dados.drop(['Interresses3', 'Interesses2'], axis=1)\n",
    "# dados.to_csv(\"Dataset_cliente.csv\")"
   ]
  },
  {
   "cell_type": "code",
   "execution_count": 10,
   "metadata": {},
   "outputs": [],
   "source": [
    "# dados['Viaja_Frequentemente'] = dados['Viaja_Frequentemente'].replace({\"Sim\": 1, \"Não\": 0})\n",
    "# dados['Dependentes'] = dados['Dependentes'].replace({\"1\\\"\": 1, \"0\\\"\": 0, \"2\\\"\": 2, \"3\\\"\": 3})\n",
    "# dados.to_csv(\"Dataset_cliente.csv\")"
   ]
  },
  {
   "cell_type": "code",
   "execution_count": null,
   "metadata": {},
   "outputs": [],
   "source": [
    "def verificar_idade(idade):\n",
    "    if 18 <= idade <=29:\n",
    "        return \"Plano Conexão\"\n",
    "    elif 30 <= idade < 50:\n",
    "        return \"Plano Serenidade\"\n",
    "    else:\n",
    "        return \"Plano Equilíbrio\"\n",
    "\n",
    "dados['Data_Nascimento'] = pd.to_datetime(dados['Data_Nascimento'])\n",
    "dados['Idade'] = datetime.date.today().year - dados['Data_Nascimento'].dt.year\n",
    "dados['Plano'] = dados['Idade'].apply(verificar_idade)\n",
    "\n",
    "\n",
    "dados[['Idade', 'Plano']]\n"
   ]
  },
  {
   "cell_type": "code",
   "execution_count": null,
   "metadata": {},
   "outputs": [],
   "source": [
    "especificacao = dados[['Interesses', 'Gastos_Mensais', 'Salario',\n",
    "       'Tipo_Cartao_Credito', 'Gasto_Mensal_Cartao', 'Viaja_Frequentemente',\n",
    "       'Profissao', 'Renda_Mensal', 'Dependentes', 'Idade', 'Plano']]\n",
    "especificacao.head(5)"
   ]
  },
  {
   "cell_type": "code",
   "execution_count": null,
   "metadata": {},
   "outputs": [],
   "source": [
    "def defineplano(interesses):\n",
    "    if 'tecnologia' in interesses or 'Viagens' in interesses or 'Games' in interesses:\n",
    "        return \"Plano Conexão\"\n",
    "    elif 'Design' in interesses or 'Culinária' in interesses or 'Nutrição' in interesses:\n",
    "        return \"Plano Serenidade\"\n",
    "    else:\n",
    "        return \"Plano Equilíbrio\"\n",
    "\n",
    "# dados['Data_Nascimento'] = pd.to_datetime(dados['Data_Nascimento'])\n",
    "# dados['Idade'] = datetime.date.today().year - dados['Data_Nascimento'].dt.year\n",
    "dados['Plano'] = dados['Interesses'].apply(defineplano)\n",
    "dados[['Interesses', 'Plano']]"
   ]
  },
  {
   "cell_type": "code",
   "execution_count": null,
   "metadata": {},
   "outputs": [],
   "source": [
    "dados.head()"
   ]
  },
  {
   "cell_type": "code",
   "execution_count": null,
   "metadata": {},
   "outputs": [],
   "source": [
    "e = especificacao[['Gastos_Mensais', 'Salario','Gasto_Mensal_Cartao', 'Viaja_Frequentemente','Renda_Mensal', 'Dependentes']]\n",
    "#e['Viaja_Frequentemente'] = e['Viaja_Frequentemente'].str.replace(\"Sim\", 1, case=False, regex=False)\n",
    "#e['Dependentes'] = e['Dependentes'].str.replace(\"0\\\"\", \"0\", case=False, regex=False)\n",
    "e['Viaja_Frequentemente'] = e['Viaja_Frequentemente'].replace({\"Sim\": 1, \"Não\": 0})\n",
    "e['Dependentes'] = e['Dependentes'].replace({\"1\\\"\": 1, \"0\\\"\": 0, \"2\\\"\": 2, \"3\\\"\": 3})\n",
    "e.head()"
   ]
  },
  {
   "cell_type": "code",
   "execution_count": null,
   "metadata": {},
   "outputs": [],
   "source": [
    "especificacao.hist(bins=100, figsize=(15, 15))\n",
    "plt.show()"
   ]
  },
  {
   "cell_type": "code",
   "execution_count": null,
   "metadata": {},
   "outputs": [],
   "source": [
    "especificacao.plot(kind='box', subplots=True, layout=(len(especificacao.columns),len(especificacao.columns)), sharex=False, sharey=False, figsize=(15, 15))\n",
    "plt.show()"
   ]
  },
  {
   "cell_type": "code",
   "execution_count": 7,
   "metadata": {},
   "outputs": [],
   "source": [
    "entradas = especificacao[['Gastos_Mensais', 'Salario',\n",
    "       'Gasto_Mensal_Cartao', 'Viaja_Frequentemente',\n",
    "       'Renda_Mensal', 'Dependentes', 'Idade']]\n",
    "classes = especificacao['Plano']"
   ]
  },
  {
   "cell_type": "code",
   "execution_count": null,
   "metadata": {},
   "outputs": [],
   "source": [
    "print(f\"Formato das tabelas de dados {entradas.shape} e classes {classes.shape}\")\n",
    "\n",
    "entradas_treino, entradas_teste, classes_treino, classes_teste = train_test_split(entradas, classes, test_size=0.2)\n",
    "\n",
    "print(f\"Formato das tabelas de dados de treino {entradas_treino.shape} e teste {entradas_teste.shape}\")"
   ]
  },
  {
   "cell_type": "code",
   "execution_count": null,
   "metadata": {},
   "outputs": [],
   "source": [
    "\n",
    "from sklearn.neighbors import KNeighborsClassifier\n",
    "\n",
    "k = 12\n",
    "modelo = KNeighborsClassifier(n_neighbors=k)\n",
    "\n",
    "modelo.fit(entradas_treino, classes_treino)"
   ]
  },
  {
   "cell_type": "code",
   "execution_count": null,
   "metadata": {},
   "outputs": [],
   "source": [
    "classes_encontradas = modelo.predict(entradas_teste)\n",
    "print(\"Predição: {}\".format(classes_encontradas))"
   ]
  },
  {
   "cell_type": "code",
   "execution_count": null,
   "metadata": {},
   "outputs": [],
   "source": [
    "from sklearn.metrics import accuracy_score\n",
    "acertos = accuracy_score(classes_teste, classes_encontradas)\n",
    "print(\"Acerto médio de classificação: \", acertos)"
   ]
  },
  {
   "cell_type": "code",
   "execution_count": 52,
   "metadata": {},
   "outputs": [],
   "source": [
    "df_treino = pd.concat((entradas_treino, classes_treino), axis=1)\n",
    "\n",
    "novas_classes = pd.Series(classes_encontradas, name=\"species\", index=entradas_teste.index)\n",
    "df_teste = pd.concat((entradas_teste, novas_classes), axis=1)"
   ]
  },
  {
   "cell_type": "code",
   "execution_count": null,
   "metadata": {},
   "outputs": [],
   "source": [
    "k_range = list(range(1,20))\n",
    "acertos = []\n",
    "for k in k_range:\n",
    "    modelo = KNeighborsClassifier(n_neighbors=k)\n",
    "    modelo.fit(entradas_treino, classes_treino)\n",
    "    classes_encontradas = modelo.predict(entradas_teste)\n",
    "    acertos.append(accuracy_score(classes_teste, classes_encontradas))\n",
    "\n",
    "\n",
    "plt.plot(k_range, acertos)\n",
    "plt.xlabel('Valor de k do KNN')\n",
    "plt.ylabel('Taxa de acertos')\n",
    "plt.title('Taxa de acertos x valor de k do KNN')\n",
    "plt.show()\n"
   ]
  },
  {
   "cell_type": "code",
   "execution_count": null,
   "metadata": {},
   "outputs": [],
   "source": [
    "dados = pd.read_csv(\"Dataset_cliente.csv\")\n",
    "X = entradas\n",
    "y = classes\n",
    "\n",
    "X_train, X_test, y_train, y_test = train_test_split(X, y, test_size=0.5, random_state=42)\n",
    "\n",
    "lda_model = LinearDiscriminantAnalysis(covariance_estimator=None, n_components=None,\n",
    "                           priors=None, shrinkage=None, solver='svd',\n",
    "                           store_covariance=False, tol=0.0001)\n",
    "lda_model.fit(X_train, y_train)\n",
    "\n",
    "\n",
    "scores = cross_val_score(lda_model, X, y, cv=5, scoring='accuracy')\n",
    "print(f\"Cross-validation scores: {scores}\")\n",
    "print(f\"Mean cross-validation score: {np.mean(scores)}\")"
   ]
  },
  {
   "cell_type": "code",
   "execution_count": null,
   "metadata": {},
   "outputs": [],
   "source": [
    "y_pred = lda_model.predict(X_test)\n",
    "print(\"Relatório de Classificação para LDA:\")\n",
    "print(classification_report(y_test, y_pred))"
   ]
  },
  {
   "cell_type": "code",
   "execution_count": null,
   "metadata": {},
   "outputs": [],
   "source": [
    "from sklearn.tree import DecisionTreeClassifier\n",
    "from sklearn.metrics import accuracy_score\n",
    "from sklearn.preprocessing import LabelEncoder, OneHotEncoder\n",
    "\n",
    "\n",
    "entradas_processadas = pd.get_dummies(entradas)\n",
    "label_encoder = LabelEncoder()\n",
    "classes_processadas = label_encoder.fit_transform(classes)\n",
    "X_train, X_test, y_train, y_test = train_test_split(entradas_processadas, classes_processadas, test_size=0.2, random_state=42)\n",
    "modelo = DecisionTreeClassifier()\n",
    "modelo.fit(X_train, y_train)\n",
    "\n",
    "y_pred = modelo.predict(X_test)\n",
    "\n",
    "acuracia = accuracy_score(y_test, y_pred)\n",
    "print(f'Acurácia do modelo: {acuracia}')"
   ]
  },
  {
   "cell_type": "code",
   "execution_count": null,
   "metadata": {},
   "outputs": [],
   "source": [
    "from sklearn.ensemble import RandomForestClassifier\n",
    "\n",
    "modelo_rf = RandomForestClassifier(n_estimators=100, random_state=42)\n",
    "modelo_rf.fit(X_train, y_train)\n",
    "\n",
    "y_pred_rf = modelo_rf.predict(X_test)\n",
    "\n",
    "acuracia_rf = accuracy_score(y_test, y_pred_rf)\n",
    "print(f'Acurácia do modelo Random Forest: {acuracia_rf}')"
   ]
  },
  {
   "cell_type": "code",
   "execution_count": null,
   "metadata": {},
   "outputs": [],
   "source": [
    "from sklearn.metrics import accuracy_score, precision_score, recall_score, f1_score, confusion_matrix, roc_auc_score\n",
    "\n",
    "acuracia = accuracy_score(y_test, y_pred)\n",
    "precisao = precision_score(y_test, y_pred, average='weighted')\n",
    "revocacao = recall_score(y_test, y_pred, average='weighted')\n",
    "f1 = f1_score(y_test, y_pred, average='weighted')\n",
    "matriz_confusao = confusion_matrix(y_test, y_pred)\n",
    "#roc_auc = roc_auc_score(y_test, y_pred, average='weighted', multi_class='ovr')\n",
    "\n",
    "print(f'Acurácia: {acuracia}')\n",
    "print(f'Precisão: {precisao}')\n",
    "print(f'Revocação: {revocacao}')\n",
    "print(f'F1-Score: {f1}')\n",
    "print(f'Matriz de Confusão:\\n{matriz_confusao}')\n",
    "#print(f'ROC-AUC: {roc_auc}')"
   ]
  },
  {
   "cell_type": "code",
   "execution_count": null,
   "metadata": {},
   "outputs": [],
   "source": [
    "from pycaret.classification import *\n",
    "\n",
    "clf1 = setup(data=especificacao, target='Plano', session_id=123)\n",
    "\n",
    "\n",
    "best_model = compare_models()\n",
    "\n",
    "\n",
    "save_model(best_model, 'modelo_melhor_salvo')"
   ]
  }
 ],
 "metadata": {
  "kernelspec": {
   "display_name": "Python 3",
   "language": "python",
   "name": "python3"
  },
  "language_info": {
   "codemirror_mode": {
    "name": "ipython",
    "version": 3
   },
   "file_extension": ".py",
   "mimetype": "text/x-python",
   "name": "python",
   "nbconvert_exporter": "python",
   "pygments_lexer": "ipython3",
   "version": "3.11.5"
  }
 },
 "nbformat": 4,
 "nbformat_minor": 2
}
